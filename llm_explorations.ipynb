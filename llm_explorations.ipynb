{
 "cells": [
  {
   "cell_type": "markdown",
   "metadata": {},
   "source": [
    "# LLM course summarizer"
   ]
  },
  {
   "cell_type": "code",
   "execution_count": 2,
   "metadata": {},
   "outputs": [],
   "source": [
    "import json\n",
    "import requests\n",
    "from dotenv import load_dotenv\n",
    "from pathlib import Path\n",
    "import os\n",
    "\n",
    "load_dotenv(Path()/\"env/.env\")\n",
    "api_key = os.getenv(\"EDEN_API\")\n",
    "\n",
    "# print(api_key)"
   ]
  },
  {
   "cell_type": "code",
   "execution_count": 5,
   "metadata": {},
   "outputs": [],
   "source": [
    "def chat(\n",
    "    prompt,\n",
    "    provider=\"openai\",\n",
    "    model=\"gpt-3.5-turbo-0125\",\n",
    "    temperature=0.5,\n",
    "    max_tokens=300,\n",
    "):\n",
    "    headers = {\"Authorization\": f\"Bearer {api_key}\"}\n",
    "\n",
    "    url = \"https://api.edenai.run/v2/text/chat\"\n",
    "    payload = {\n",
    "        \"providers\": provider,\n",
    "        \"model\": model,\n",
    "        \"text\": prompt,\n",
    "        \"chatbot_global_action\": \"Act as an assistant\",  # try to change this\n",
    "        \"previous_history\": [],  # to continue chat, input previous answers and prompts here\n",
    "        \"temperature\": temperature,  # experiment what happens with different temperatures\n",
    "        \"max_tokens\": max_tokens,  # experiment with this\n",
    "        \"fallback_providers\": \"perplexityai\",\n",
    "    }\n",
    "\n",
    "    response = requests.post(url, json=payload, headers=headers)\n",
    "\n",
    "    result = json.loads(response.text)\n",
    "    return result[\"openai\"][\"generated_text\"]\n"
   ]
  },
  {
   "cell_type": "code",
   "execution_count": 7,
   "metadata": {},
   "outputs": [
    {
     "data": {
      "text/plain": [
       "WindowsPath('y:/Skola/OOP/Skolarbete/scraping-nbi/data')"
      ]
     },
     "execution_count": 7,
     "metadata": {},
     "output_type": "execute_result"
    }
   ],
   "source": [
    "data_path = Path().absolute() / \"data\"\n",
    "data_path"
   ]
  },
  {
   "cell_type": "code",
   "execution_count": 8,
   "metadata": {},
   "outputs": [
    {
     "name": "stdout",
     "output_type": "stream",
     "text": [
      "Vill du skapa design och effektiva och funktionella webbplatser och webbapplikationer? Då är yrkesrollen och utbildningen Frontend Developer rätt för dig. Som Frontend Developer omvandlar du designkoncept och användarinteraktioner till kod, vilket gör att användarna kan interagera smidigt och intuitivt med webbapplikationen. Efter utbildningen kan du jobba som t ex webbutvecklare Frontend, Webbprogramerare eller Gränssnittsutvecklare. Kort om utbildningen Göteborg  t.om augusti  2024-08-26  Efterfrågan på Frontend Developer ökar på grund av den digitala omställningen som alla verksamheter investerar stort och snabbt i. Den snabba utvecklingen leder till att det hela tiden behövs ny kompetens. Behovet av att kunna utveckla digitala lösningar som effektivt stödjer verksamheters föränderliga behov är en viktig drivkraft för efterfrågan av Frontend Developer. Den snabba utvecklingen av användarvänliga, integrerade webbaserade applikationer i kombination med fordonsbaserade system, mobiltelefoner, surfplattor och andra mobila enheter ökar efterfrågan av utbildade Frontend Developer än mer. Möjligheterna till jobb som Frontend Developer är lovande och sträcker sig över många branscher. Eftersom behovet av kompetensen fortsätter att växa, öppnas dörrar till olika karriärvägar. Och med ett omfattande nätverk och stark koppling till arbetslivet ger vi dig förutom kunskaper och färdigheter en direkt väg in i arbetslivet genom flera veckors praktik. Utbildningen Frontend Developer är utvecklad i nära samarbete med ledande företag och experter inom branschen för att matcha specifika behov av kompetens inom webbapplikationer. I rollen som Frontend Developer är du en avgörande kraft för digital framgång. Du står bakom att skapa och förverkliga visuella och interaktiva digitala lösningar. Din uppgift sträcker sig från att omvandla designkoncept till kod och säkerställa att webbplatser och applikationer är användarvänliga och estetiskt tilltalande. I rollen ingår att optimera gränssnitt för olika plattformar. Du löser tekniska utmaningar, samarbetar nära med andra utvecklare och strävar efter att förbättra webbplatsernas prestanda. I en värld där tekniken ständigt utvecklas är din roll nyckeln till att skapa moderna och effektiva digitala tjänster. Som Frontend Developer samarbetar du nära UI/UX-teamet och digitala designers för att skapa responsiva och användarvänliga webbplatser och mobila plattformar. Du arbetar med den synliga delen av webbplatsen och ansvarar för att koden skapar sidor som är lättnavigerade, snabba och tillgängliga oavsett enhet. För att bli en framgångsrik Frontend Developer krävs det en kombination av tekniska och mjuka färdigheter samt förmågan att arbeta i team och samarbeta med andra utvecklare, designers och kunder Med målsättningen att du som studerande ska vara väl rustad för kommande arbetsliv och uppleva din studietid som intressant, rolig och inspirerande, arbetar vi utifrån en gemensam pedagogisk plattform och format. Lärandet sker såväl på skolan som online och genom praktik (LIA). Detta är en schemalagd heltidsutbildning med undervisning 2-3 dagar per vecka. Övrig tid arbetar du självständigt eller i grupp. Under lärande i arbete, LiA, följer du de arbetstider som gäller på företaget. Antalet schemalagda dagar kan variera något mellan kurserna. Klicka på länken så tas du direkt till den information som du söker! Att söka en YH-utbildning är verkligen inte svårt. Det du ska tänka på är att lämna in din ansökan i tid, även om den inte är komplett. Det finns tid att skicka in dina bilagor även efter sista ansökningsdag. Om du inte är behörig, har du tid på dig att bli det. Om du söker till våra IT-utbildningar och har all behörighet som efterfrågas men saknar kunskaper i programmering 1, kan du få gå en avgiftsfri förberedande kurs på distans under 4.v under våren. Du får mer info när du har skickat in din ansökan. Ansökan görs i yh-antagning.se. När du skickat in dina ansökningshandlingar guidar vi dig vidare genom processen. Klicka på länken för att komma till yh-antagning.se, där du gör din ansökan. När du lämnar in en sen anmälan kan du bli erbjuden plats när alla som ansökt i tid har fått chansen. Antagningen sker i datumordning, och pågår ända fram till utbildningsstart! Programmering 1:\n",
      "Om du saknar betyg i Programmering 1 finns det två alternativ tillgängliga för dig. Du kan antingen genomföra ett online-behörighetstest eller delta i en behörighetsförberedande onlinekurs. Kursen sträcker sig över fyra veckor, där du självständigt arbetar med förinspelade lektioner och övningar. Avslutningsvis genomförs en tentamen. Både testet och kursen är kostnadsfria, och kursen är även berättigad till CSN-stöd. När du skickar in din ansökan kommer du att få återkoppling från oss och ytterligare information om hur du kan anmäla dig till antingen testet eller kursen via YH-antagning. Frontend Developer:\n",
      "Som Frontend Web Developer omsätter du designkoncept till fungerande kod och bygger därmed webbplatser med fokus på användarvänlighet och visuell estetik. Du är ansvarig för att skapa en sömlös interaktion mellan användaren och webbapplikationen. Gränssnittsutvecklare:\n",
      "I rollen som Gränssnittsutvecklare optimerar du gränssnitten för olika plattformar, vilket innebär att du balanserar teknisk funktionalitet med estetiska och användarcentrerade designprinciper. Ditt arbete strävar efter att skapa en tilltalande och intuitiv användarupplevelse. Webbprogrammerare:\n",
      "Som Webbprogrammerare utvecklar och implementerar du webbapplikationer genom att tillämpa djupgående kunskaper i JavaScript och andra relevanta teknologier. Din roll innebär att skapa dynamiska och funktionella lösningar för olika användarbehov. UI/UX Developer:\n",
      "I rollen som UI/UX Developer samarbetar du nära med UI/UX-teamet och designers för att skapa responsiva och användarvänliga webbplatser. Ditt fokus ligger på att integrera användbarhetsprinciper och designelement för att skapa en positiv och engagerande användarupplevelse. Genom att behandla arbetsmetoder och relevanta verktyg för utvecklarrollen ger kursen grundläggande kunskaper. Deltagarna får förståelse för verktyg och program på arbetsmarknaden samt motivasjon för deras användning. Kursen fördjupar förståelsen för teorier och metoder inom agila projektledningskoncept. Målet är att kunna effektivt samarbeta i utvecklingsteam och säkerställa tidsenliga projektleveranser. Deltagarna får insikter i olika projektformer och agil arbetsmetodik, samt förmågan att leda tekniska projekt med agil framtoning. Denna kurs fokuserar på grundläggande tekniker för backend-utveckling och skapande av databasdrivna webbplatser. Målet är att ge en helhetsförståelse för användarflöden i webbapplikationer och kunskaper för att skapa dynamiska, databasdrivna webbapplikationer. I detta projektbaserade ämne tillämpar och fördjupar deltagarna sina kunskaper och kompetenser. Genom att genomföra branschrelevanta projekt demonstrerar de sina färdigheter inom ramverken som behandlats under utbildningen. Kursen utforskar grundläggande designteori och branschverktyg för digital formgivning. Deltagarna utvecklar en helhetsförståelse för det digitala skapandeflödet och hur man skapar webbproduktioner från initial formgivning till kod. Den här kursen fokuserar på grundläggande tekniker inom webbutveckling, inklusive syntaktiskt korrekta webbplatser och tillgänglighetsanpassning. Målet är att kunna skapa webbplatser som fungerar på olika enheter och för olika behov. Kursen behandlar aktuella webbtekniker för klientsidan och fördjupar deltagarnas kunskaper i webbprogrammering. Målet är att skapa interaktiva webbapplikationer och hantera gränssnitt och funktionalitet på en holistisk nivå. Genom att fördjupa kunskaperna inom webbteknik och ramverk lär sig deltagarna att skapa avancerade och interaktiva webbapplikationer. Kursen främjar självständig utforskning och tillämpning av tekniska kravspecifikationer. Lärande i arbete (LIA) förbereder deltagarna för Frontendutvecklarrollen genom praktisk tillämpning av webbtekniker och verktyg. Målet är att kunna hantera arbetsmetoder och verktyg inom webbutveckling. I den andra LIA-kursen fördjupar deltagarna sina praktiska färdigheter med ökat ansvar. Målet är att självständigt bedriva webbutveckling och vid behov söka handledarstöd. Kursen behandlar grundläggande teorier och arbetsmetoder för att skapa användarvänliga webbplatser. Deltagarna utvecklar kunskaper i målgruppsanalyser, användartester och skapande av gränssnitt med användarvänlighet i fokus. Genom dina praktikperioder ute på företag får du möjlighet att skapa goda relationer och få värdefull praktisk erfarenhet. NBI/Handelsakademin kan tipsa om LiA-företag, men du tar själv kontakt med företaget och säljer in dig. Du kan göra din LiA på vilken ort du vill, även utomlands, så länge uppgifterna är i linje med kursplanen och det finns en engagerad handledare som vet vad det innebär. Din utbildningsledare kommer att ha kontakt med handledaren i företaget och gör vanligtvis ett besök på ditt LiA-företag. Under lärande i arbete (LIA) följer du de arbetstider som gäller på praktikföretaget. Semcon, Bizpart, Cilbuper, Solid Beans, Fiwe, Know IT. YH-utbildningar matchas mot arbetslivets behov och innebär att deras innehåll och inriktning utvecklas och förändras. Nya utbildningar kan starta och andra försvinna allt eftersom kompetensbehovet förändras. För dig som studerande innebär det att din yrkeskunskap är aktuell och efterfrågad i arbetslivet när du är klar med din utbildning. Vår utbildning är CSN-berättigad och kvalificerar också för omställningsstudiestöd, vilket ger dig möjlighet att få ekonomiskt stöd under din studieperiod. För ytterligare information om omställningsstudiestödet och att söka CSN, klicka på de separata länkarna nedan. Varje länk leder dig till en sida där du kan läsa mer om hur du kan få stöd för din nya framtid  +46 31-704 67 19\n",
      "magdalena.fagerlind@nbi-handelsakademin.se magdalena.fagerlind@nbi-handelsakademin.se Du kan alltid maila oss på hej@nbi-handelsakademin.se så hjälper vi dig vidare!\n",
      "hej@nbi-handelsakademin.se hej@nbi-handelsakademin.se Tillsammans håller vi utbildningen levande och kan snabbt förändra innehållet och anpassa den efter verkligheten. Men vissa program är bara flugor, så är det bra att låta den seniora sidan av IT-marknaden få känna och klämma lite på ett nytt språk innan man ändrar hela utbildningsschemat efter det.  Utöver gymnasieexamen, finns det finns det krav på så kallade särskilda förkunskaper. Det brukar handla om att du ska ha godkända betyg från vissa specifika kurser från gymnasiet eller att du ska ha viss arbetslivserfarenhet. I denna video går vi igenom vad som är viktigt inför din ansökan Vill du söka till en av våra IT-utbildningar men har inte läst programmering 1? Vi har förberedande kurser som gör dig behörig. I denna video går vi igenom hur du söker till en av våra förberedande kurser i programmering 1 När vi har många sökande och ska rangordna alla behöriga via ”urval”, har vi valt att göra det med hjälp av ett urvalsprov. Ett sådant prov kan ge extra poäng i rangordningen, och det ökar din chans att bli antagen. I denna video går vi igenom urvalsprov och hur detta går till Antagningsprocessen kan pågå ändå fram till utbildningsstart. Du har lämnat in din ansökan, men vad händer nu? I denna video går vi igenom vad som sker efter det att du lämnat in din ansökan, vad som är viktigt att hålla koll på, och när du kan förvänta dig att få ett antagningsbesked från oss. Vår strävan är att göra skillnad och förändra livet för människor. Vi vill skapa en bättre framtid och konkurrenskraft för människor och företag genom utbildning, utveckling och upplevelser i en trygg, familjär och inspirerande miljö. Om behandling av personuppgifter (GDPR) Om hantering av cookies Policy för SoMe Redegatan 1B\n",
      "426 77 Västra Frölunda hej@nbi-handelsakademin.se\n",
      "Växel: 031 – 704 67 00 Logga in \n",
      "\t\t\t\t© 2020 NBI Handelsakademin\t\t\t  Denna webbplats använder cookies. NBI/Handelsakademin använder cookies för att ge dig anpassat innehåll och en bättre upplevelse på vår webbplats. Genom att klicka på ikonen ”tillåt alla” bekräftar du att du samtycker till vår användning av cookies. Läs mer om vår hantering av cookies här.\n"
     ]
    }
   ],
   "source": [
    "with open(data_path / \"frontend-developer.txt\", \"r\") as file:\n",
    "    raw_text = file.read()\n",
    "\n",
    "print(raw_text)"
   ]
  },
  {
   "cell_type": "code",
   "execution_count": 15,
   "metadata": {},
   "outputs": [
    {
     "data": {
      "text/plain": [
       "'Yrkesrollen och utbildningen Frontend Developer fokuserar på att omvandla designkoncept till kod för att skapa användarvänliga och estetiskt tilltalande webbplatser och webbapplikationer. Det stora behovet av Frontend Developers beror på den ökande digitala omställningen som skapar efterfrågan på kompetens inom webbutveckling. Utbildningen, som sträcker sig till augusti 2024, ger dig möjlighet att arbeta inom olika branscher med en lovande karriär.\\n\\nThe profession and education pathway of Frontend Developer focuses on translating design concepts into code to create user-friendly and aesthetically pleasing websites and web applications. The high demand for Frontend Developers is driven by the growing digital transformation, prompting the need for expertise in web development. The education program, running until August 2024, offers opportunities for a promising career across various industries.'"
      ]
     },
     "execution_count": 15,
     "metadata": {},
     "output_type": "execute_result"
    }
   ],
   "source": [
    "summary_eng = chat(f\"\"\"Kan du sammanfatta den här texten till max tre stycken och sedan översätta sammanfattningen till engelska på ett sätt som låter professionellt? Här är texten\n",
    "'''\n",
    "{raw_text}\n",
    "'''\n",
    "\"\"\", model=\"gpt-3.5-turbo\", temperature=1.0)\n",
    "\n",
    "summary_eng"
   ]
  },
  {
   "cell_type": "code",
   "execution_count": 16,
   "metadata": {},
   "outputs": [
    {
     "name": "stdout",
     "output_type": "stream",
     "text": [
      "Yrkesrollen och utbildningen Frontend Developer fokuserar på att omvandla designkoncept till kod för att skapa användarvänliga och estetiskt tilltalande webbplatser och webbapplikationer. Det stora behovet av Frontend Developers beror på den ökande digitala omställningen som skapar efterfrågan på kompetens inom webbutveckling. Utbildningen, som sträcker sig till augusti 2024, ger dig möjlighet att arbeta inom olika branscher med en lovande karriär.\n",
      "\n",
      "The profession and education pathway of Frontend Developer focuses on translating design concepts into code to create user-friendly and aesthetically pleasing websites and web applications. The high demand for Frontend Developers is driven by the growing digital transformation, prompting the need for expertise in web development. The education program, running until August 2024, offers opportunities for a promising career across various industries.\n"
     ]
    }
   ],
   "source": [
    "print(summary_eng)"
   ]
  },
  {
   "cell_type": "code",
   "execution_count": 10,
   "metadata": {},
   "outputs": [
    {
     "data": {
      "text/plain": [
       "<scraper.FaqScraper at 0x2aa3cee47d0>"
      ]
     },
     "execution_count": 10,
     "metadata": {},
     "output_type": "execute_result"
    }
   ],
   "source": [
    "from scraper import FaqScraper\n",
    "\n",
    "faq = FaqScraper()\n",
    "faq"
   ]
  },
  {
   "cell_type": "code",
   "execution_count": 11,
   "metadata": {},
   "outputs": [
    {
     "data": {
      "text/plain": [
       "['Vilka utbildningar startar till hösten?',\n",
       " 'Använd filterfunktionen på startsidan för att se vilka utbildningar som startar.',\n",
       " 'När öppnar ansökan?',\n",
       " 'Vi öppnar ansökan i december för utbildningar som är inplanerade sedan tidigare. I januari/februari öppnar vi ansökan för nya utbildningsstarter. Anmäl ditt intresse så får du mail från oss om nya utbildningsstarter.',\n",
       " 'När är sista ansökningsdag?',\n",
       " 'Sista dag för att skicka in ansökan är den 19 maj. Vi granskar ansökningarna kontinuerligt och skickar en påminnelse om du behöver komplettera din ansökan.',\n",
       " '\\xa0',\n",
       " 'Vad innebär Sen anmälan?',\n",
       " 'Det innebär att kan man bli antagen i mån av plats, efter det att samtliga som sökt i tid har bedömts och fått chansen.',\n",
       " 'När är sista dag för att komplettera ansökan?',\n",
       " 'Sista dag för komplettering är 9 juni för samtliga YH-program öppna för ansökan. När du ansöker i yh-antagning.se kan du se vilket datum som gäller för de utbildningar du ansöker till. Var noga med att skicka in din ansökan i rätt tid, och ange att du ska komplettera senare.',\n",
       " 'Kan man ansöka till flera utbildningar samtidigt?',\n",
       " 'Ja, det går utmärkt att söka till flera utbildningar.',\n",
       " 'Måste jag skriva ett personligt brev i min ansökan och berätta mer om mig själv?',\n",
       " 'Det kan vara trevligt, men det är inget som vi får använda som en del i bedömningen, varken för att bli behörig, eller för att på poäng i urvalet. Så det finns inget sådant krav.',\n",
       " 'Måste jag skicka med undertecknade intyg från arbetsgivare?',\n",
       " 'Om du ska ansöka via reell kompetens och vill hänvisa till tidigare anställningar krävs bevis på din arbetslivserfarenhet via någon form av intyg, som är undertecknat av en arbetsgivare.',\n",
       " 'Mina betyg finns på antagning.se, kan ni hämta där?',\n",
       " 'Nej, det finns tyvärr ingen samordning mellan dessa system. Du måste själv bifoga dina betyg och intyg via filer som laddas upp i ansökningswebben.',\n",
       " 'Hur många sökande brukar det vara?',\n",
       " 'Det skiljer väldigt mycket mellan utbildningarna. Till vissa utbildningar har vi flera hundra sökande, till andra har vi kanske bara 50. De flesta utbildningar har runt 30 utbildningsplatser. Hur söktrycket brukar se ut kan då få veta om du hör av dig via e-post till oss.',\n",
       " 'Kan man söka studiemedel hos CSN?',\n",
       " 'Ja, alla YH-utbildningar berättigar till studiemedel. Det är dock du själv som får sköta det. Vi är inte inblandade annat än att vi anger vilka som startar utbildningen och senare intygar att du följer utbildningstakten.',\n",
       " 'Hur blir man behörig?',\n",
       " 'Man kan bli behörig på två sätt. Antingen har man gymnasieutbildning och betyg i de kurser som krävs. Har man inte det, kan man ändå bli behörig, genom s.k. reell kompetens. Det innebär att du har gjort något annat i livet och på så sätt fått motsvarande de kunskaper man får via gymnasiebetyg. Oftast gäller det arbetslivserfarenhet, men det kan även vara betyg eller examen från någon annan utbildning. Vi gör en bedömning och föreslår det för ledningsgruppen för utbildningen, som i sin tur fattar beslut om antagning.',\n",
       " 'Vad händer om du inte är behörig?',\n",
       " 'Om du saknar behörighet via gymnasiestudier och betyg, har du tid på sig att komplettera kunskaper och betyg. För vissa av våra utbildningar kan du komplettera genom att gå våra avgiftsfria preparandkurser. Du får inbjudan att delta i preparandkurser när du ansökt till en utbildning hos oss.',\n",
       " 'Du kan också skriva i din ansökan att du vill bli bedömd på så kallad reell kompetens. Du behöver då motivera hur du anser att dina erfarenheter kompenserar för det du saknar från de formella behörighetskraven.',\n",
       " 'Utöver det, har vi en möjlighet att anta en mindre kvot sökande som inte är behöriga på något av dessa två sätt, men som vi bedömer ändå har en möjlighet att klara av utbildningen. Den bedömningen gör vår ledningsgrupp efter förslag från oss.',\n",
       " 'Om du inte är behörig, och inte kompletterar för att bli det, kan du inte bli antagen och du får då besked om det.',\n",
       " 'Vad är skillnaden mellan \"behörighet\" och \"urval\"?',\n",
       " '”Behörig” innebär att man har visat att man har de förkunskaper som krävs för att bli antagen. Är man inte behörig, kan man inte bli antagen. Behörighet är alltså ”Ja” eller ”Nej”. När vi sedan har en lista med många behöriga sökande (fler än antalet platser) då måste vi göra ett ”urval”. Urval är en slags rangordning av alla behöriga sökande. Här har vi då fler kriterier att bedöma, som ger lite olika poäng. Det kan skilja mellan utbildningarna.',\n",
       " 'Jag har betyg från kurser på högskola/universitet eller annan YH-utbildning. Kan jag tillgodoräkna mig det?',\n",
       " 'Tyvärr inte. För att bli behörig via formella betyg krävs inga betyg från andra eftergymnasiala studier. Dock kan sådana betyg vara ett sätt att styrka Reell kompetens. Men du får inga mer poäng i urvalet och rangordningen',\n",
       " 'Måste man ha arbetslivserfarenhet?',\n",
       " 'Man behöver inte ha arbetslivserfarenhet för att söka till våra utbildningar ifall man uppfyller behörighetskraven via betyg från gymnasiet. Gör man det, får man inget ”extra” för arbetslivserfarenhet. Om du inte har gymnasieexamen och rätt kurser/betyg, kan du behöva arbetslivserfarenhet för att bli behörig via s.k. Reell kompetens. Du får inga ”poäng” för arbetslivserfarenhet utan den är bara till för att bli behörig eller inte. Men har du gymnasieexamen och rätt betyg i kurser enligt särskilda behörighetskrav, krävs inga intyg från arbetslivet.',\n",
       " 'Vad är Urvalsprov?',\n",
       " 'När vi har många sökande och ska rangordna alla behöriga via ”urval”, har vi valt att göra det med hjälp av ett urvalsprov. Ett sådant prov kan ge extra poäng i rangordningen, och det ökar din chans att bli antagen. Du kan aldrig försämra dina chanser, bara få extra poäng som ger dig en högre placering i rangordningen. Provens utformning varierar mellan utbildningarna. Man kan normalt inte förbereda sig till proven på något sätt om vi t.ex. testar läsförståelse eller engelska. Ingår prov i matematik, kan man eventuellt repetera gymnasiematematik. Ingår Excel, kan man träna på grunder i Excel.',\n",
       " 'Jag har bokat in mig på urvalsprov men fått förhinder. Kan jag boka ett annat tillfälle?',\n",
       " 'Logga in i yh-antagning och boka om ditt prov till ett annat tillfälle.',\n",
       " 'Har ni intervjuer?',\n",
       " 'Nej, vi får inte använda sådana personliga och subjektiva instrument som ett led i urvalet. Därför gör vi inte heller några intervjuer.',\n",
       " 'Utöver det, har vi en möjlighet att anta en mindre kvot sökande som inte är behöriga på något av dessa två sätt, men som vi bedömer ändå har en möjlighet att klara av utbildningen. Den bedömningen gör vår ledningsgrupp efter förslag från oss.',\n",
       " 'Om du inte är behörig, och inte kompletterar för att bli det, kan du inte bli antagen och du får då besked om det.',\n",
       " 'Måste jag göra urvalsprov?',\n",
       " 'Du måste inte göra provet, men om du inte gör det, missar du en chans att skaffa dig poäng i urvalet och rangordningen. Om du inte deltar, är du ändå så klart med som sökande men riskerar att hamna långt ner i rankingen. Du kan inte få några ”minuspoäng” i proven, du kan bara förbättra dina chanser.',\n",
       " 'När får vi svar om antagning?',\n",
       " 'Svar om antagning förväntas skickas ut runt midsommar.',\n",
       " 'Vad händer om jag blir reserv?',\n",
       " 'I så fall kan du bli erbjuden en plats senare, egentligen när som helst någon vecka efter antagning, fram till utbildningens start. Det händer till och med att vi tar studenter någon vecka efter att utbildningen har startat, för att fylla platser som eventuellt blir tomma om någon inte dyker upp vid utbildningsstart. Hur chanserna är att komma in som reserv är omöjligt att svara på, det beror på vilka beslut de först antagna gör. Men normalt är det flera reserver som får chansen.',\n",
       " 'Gäller reglerna för behörighet och urval bara hos er?',\n",
       " 'Samtliga de regler som anges ovan om behörighet och urval är generella för alla utbildningsanordnare som har YH-utbildningar. Det är samma regler som gäller. Det som kan skilja åt är dels vilka särskilda behörighetskrav som gäller (utöver allmän behörighet), dels vilka kriterier som används vid urvalet.',\n",
       " 'Får man hjälp att hitta LiA-plats? Har ni samarbete med företag?',\n",
       " 'Det är vårt ansvar att du har en LIA-plats, men det är du som får göra jobbet, ta kontakt, presentera dig, sälja in dig. Vi ger dig stöd i hur man bör gå till väga, coaching under processen, tips på företag, listor med tidigare LIA-handledare etc. Vi har ett nätverk av företag som har sagt sig villiga att ta emot studenter, men saker och ting kan förändras i företagen. Det finns inga ”färdiga” platser som väntar på just dig. Företagen vill också utan undantag att studenterna själva ska kunna ta kontakt.',\n",
       " 'Kan man göra sin LiA var som helst?',\n",
       " 'Ja, så länge du får arbetsuppgifter som stämmer med målen i kursplanen (utbildningens inriktning) och det finns en utsedd handledare som vet vad LIA innebär. Den geografiska platsen har då ingen betydelse',\n",
       " 'Kostar det något?',\n",
       " 'Alla våra YH-utbildningar är gratis. Det finns inga kursavgifter. Däremot måste du själv köpa din kurslitteratur. Och vill du ha en LIA-plats på en annan ort och därmed får ökade kostnader, t ex för att du behöver en bärbar dator, får du lösa det själv.',\n",
       " 'Kan jag jobba samtidigt?',\n",
       " 'Om du studerar på någon av våra YH-program rekommenderar vi att du har fullt fokus på studierna men det går att arbeta vid sidan av under vissa perioder. Våra program är heltidsutbildningar (40 tim/vecka) som kräver din närvaro vid schemalagd undervisning i snitt 16–18 timmar per vecka beroende på utbildning. Övrig tid arbetar du självständigt eller i grupp som du kan planera själv. Under lärande i arbete, LIA, följer du de arbetstider som gäller på företaget vilket är en 40 timmars arbetsvecka.',\n",
       " 'Om du studerar på våra YH-kurser så är de deltidsutbildningar på distans med schemalagda livelektioner 3 timmar per vecka. På så sätt kan du enklare kombinera studier med jobb. Utöver lektionerna sker även handledning och frågestunder.',\n",
       " 'Distans med fysiska träffar, vad betyder det?',\n",
       " 'Om du studerar på någon av våra distansutbildningar kan du studera oavsett var du befinner dig med undantag för 4-6 fysiska träffar på studieorten. Distansutbildningarna är inte oberoende av tid vilket innebär att vi har schemalagd undervisning 16-18 timmar per vecka beroende på utbildning. Övrig tid arbetar du självständigt eller i grupp. Under lärande i arbete, LIA, följer du de arbetstider som gäller på företaget. Ta reda på vad som gäller för just den utbildning du är intresserad av genom att läsa på utbildningssidan under fliken ”fakta”.',\n",
       " 'Om du studerar på våra YH-kurser så är de på distans och har ett flexibelt upplägg vilket gör det möjligt att kombinera studier med arbete samt att studera oavsett var man bor eller befinner sig. Kurserna har schemalagda livelektioner 3 timmar samt handledning och frågestunder. I övrigt planerar du din egen tid.',\n",
       " 'Behöver jag egen dator?',\n",
       " 'För att kunna ta del av utbildningsmaterial, skriva tentamen och delta i undervisningen så behöver du ha tillgång till en egen dator. I nuläget rekommenderar vi en dator som uppfyller minst följande krav:',\n",
       " 'Behöver jag skaffa några programvaror inför utbildningen?',\n",
       " 'Skolan tillhandahåller bl. a. en gratis prenumeration på Microsoft Office 365 där det ingår Office paketet, plattformen Teams, Outlook mejl etc. Beroende på vilken utbildning du ska läsa kan det finnas andra programvaror som skolan tillhandahåller under utbildningen.']"
      ]
     },
     "execution_count": 11,
     "metadata": {},
     "output_type": "execute_result"
    }
   ],
   "source": [
    "faq_list = faq.faq\n",
    "faq_list"
   ]
  },
  {
   "cell_type": "code",
   "execution_count": 12,
   "metadata": {},
   "outputs": [
    {
     "name": "stdout",
     "output_type": "stream",
     "text": [
      "Vilka utbildningar startar till hösten?\n",
      "\n",
      "Använd filterfunktionen på startsidan för att se vilka utbildningar som startar.\n",
      "\n",
      "När öppnar ansökan?\n",
      "\n",
      "Vi öppnar ansökan i december för utbildningar som är inplanerade sedan tidigare. I januari/februari öppnar vi ansökan för nya utbildningsstarter. Anmäl ditt intresse så får du mail från oss om nya utbildningsstarter.\n",
      "\n",
      "När är sista ansökningsdag?\n",
      "\n",
      "Sista dag för att skicka in ansökan är den 19 maj. Vi granskar ansökningarna kontinuerligt och skickar en påminnelse om du behöver komplettera din ansökan.\n",
      "\n",
      " \n",
      "\n",
      "Vad innebär Sen anmälan?\n",
      "\n",
      "Det innebär att kan man bli antagen i mån av plats, efter det att samtliga som sökt i tid har bedömts och fått chansen.\n",
      "\n",
      "När är sista dag för att komplettera ansökan?\n",
      "\n",
      "Sista dag för komplettering är 9 juni för samtliga YH-program öppna för ansökan. När du ansöker i yh-antagning.se kan du se vilket datum som gäller för de utbildningar du ansöker till. Var noga med att skicka in din ansökan i rätt tid, och ange att du ska komplettera senare.\n",
      "\n",
      "Kan man ansöka till flera utbildningar samtidigt?\n",
      "\n",
      "Ja, det går utmärkt att söka till flera utbildningar.\n",
      "\n",
      "Måste jag skriva ett personligt brev i min ansökan och berätta mer om mig själv?\n",
      "\n",
      "Det kan vara trevligt, men det är inget som vi får använda som en del i bedömningen, varken för att bli behörig, eller för att på poäng i urvalet. Så det finns inget sådant krav.\n",
      "\n",
      "Måste jag skicka med undertecknade intyg från arbetsgivare?\n",
      "\n",
      "Om du ska ansöka via reell kompetens och vill hänvisa till tidigare anställningar krävs bevis på din arbetslivserfarenhet via någon form av intyg, som är undertecknat av en arbetsgivare.\n",
      "\n",
      "Mina betyg finns på antagning.se, kan ni hämta där?\n",
      "\n",
      "Nej, det finns tyvärr ingen samordning mellan dessa system. Du måste själv bifoga dina betyg och intyg via filer som laddas upp i ansökningswebben.\n",
      "\n",
      "Hur många sökande brukar det vara?\n",
      "\n",
      "Det skiljer väldigt mycket mellan utbildningarna. Till vissa utbildningar har vi flera hundra sökande, till andra har vi kanske bara 50. De flesta utbildningar har runt 30 utbildningsplatser. Hur söktrycket brukar se ut kan då få veta om du hör av dig via e-post till oss.\n",
      "\n",
      "Kan man söka studiemedel hos CSN?\n",
      "\n",
      "Ja, alla YH-utbildningar berättigar till studiemedel. Det är dock du själv som får sköta det. Vi är inte inblandade annat än att vi anger vilka som startar utbildningen och senare intygar att du följer utbildningstakten.\n",
      "\n",
      "Hur blir man behörig?\n",
      "\n",
      "Man kan bli behörig på två sätt. Antingen har man gymnasieutbildning och betyg i de kurser som krävs. Har man inte det, kan man ändå bli behörig, genom s.k. reell kompetens. Det innebär att du har gjort något annat i livet och på så sätt fått motsvarande de kunskaper man får via gymnasiebetyg. Oftast gäller det arbetslivserfarenhet, men det kan även vara betyg eller examen från någon annan utbildning. Vi gör en bedömning och föreslår det för ledningsgruppen för utbildningen, som i sin tur fattar beslut om antagning.\n",
      "\n",
      "Vad händer om du inte är behörig?\n",
      "\n",
      "Om du saknar behörighet via gymnasiestudier och betyg, har du tid på sig att komplettera kunskaper och betyg. För vissa av våra utbildningar kan du komplettera genom att gå våra avgiftsfria preparandkurser. Du får inbjudan att delta i preparandkurser när du ansökt till en utbildning hos oss.\n",
      "\n",
      "Du kan också skriva i din ansökan att du vill bli bedömd på så kallad reell kompetens. Du behöver då motivera hur du anser att dina erfarenheter kompenserar för det du saknar från de formella behörighetskraven.\n",
      "\n",
      "Utöver det, har vi en möjlighet att anta en mindre kvot sökande som inte är behöriga på något av dessa två sätt, men som vi bedömer ändå har en möjlighet att klara av utbildningen. Den bedömningen gör vår ledningsgrupp efter förslag från oss.\n",
      "\n",
      "Om du inte är behörig, och inte kompletterar för att bli det, kan du inte bli antagen och du får då besked om det.\n",
      "\n",
      "Vad är skillnaden mellan \"behörighet\" och \"urval\"?\n",
      "\n",
      "”Behörig” innebär att man har visat att man har de förkunskaper som krävs för att bli antagen. Är man inte behörig, kan man inte bli antagen. Behörighet är alltså ”Ja” eller ”Nej”. När vi sedan har en lista med många behöriga sökande (fler än antalet platser) då måste vi göra ett ”urval”. Urval är en slags rangordning av alla behöriga sökande. Här har vi då fler kriterier att bedöma, som ger lite olika poäng. Det kan skilja mellan utbildningarna.\n",
      "\n",
      "Jag har betyg från kurser på högskola/universitet eller annan YH-utbildning. Kan jag tillgodoräkna mig det?\n",
      "\n",
      "Tyvärr inte. För att bli behörig via formella betyg krävs inga betyg från andra eftergymnasiala studier. Dock kan sådana betyg vara ett sätt att styrka Reell kompetens. Men du får inga mer poäng i urvalet och rangordningen\n",
      "\n",
      "Måste man ha arbetslivserfarenhet?\n",
      "\n",
      "Man behöver inte ha arbetslivserfarenhet för att söka till våra utbildningar ifall man uppfyller behörighetskraven via betyg från gymnasiet. Gör man det, får man inget ”extra” för arbetslivserfarenhet. Om du inte har gymnasieexamen och rätt kurser/betyg, kan du behöva arbetslivserfarenhet för att bli behörig via s.k. Reell kompetens. Du får inga ”poäng” för arbetslivserfarenhet utan den är bara till för att bli behörig eller inte. Men har du gymnasieexamen och rätt betyg i kurser enligt särskilda behörighetskrav, krävs inga intyg från arbetslivet.\n",
      "\n",
      "Vad är Urvalsprov?\n",
      "\n",
      "När vi har många sökande och ska rangordna alla behöriga via ”urval”, har vi valt att göra det med hjälp av ett urvalsprov. Ett sådant prov kan ge extra poäng i rangordningen, och det ökar din chans att bli antagen. Du kan aldrig försämra dina chanser, bara få extra poäng som ger dig en högre placering i rangordningen. Provens utformning varierar mellan utbildningarna. Man kan normalt inte förbereda sig till proven på något sätt om vi t.ex. testar läsförståelse eller engelska. Ingår prov i matematik, kan man eventuellt repetera gymnasiematematik. Ingår Excel, kan man träna på grunder i Excel.\n",
      "\n",
      "Jag har bokat in mig på urvalsprov men fått förhinder. Kan jag boka ett annat tillfälle?\n",
      "\n",
      "Logga in i yh-antagning och boka om ditt prov till ett annat tillfälle.\n",
      "\n",
      "Har ni intervjuer?\n",
      "\n",
      "Nej, vi får inte använda sådana personliga och subjektiva instrument som ett led i urvalet. Därför gör vi inte heller några intervjuer.\n",
      "\n",
      "Utöver det, har vi en möjlighet att anta en mindre kvot sökande som inte är behöriga på något av dessa två sätt, men som vi bedömer ändå har en möjlighet att klara av utbildningen. Den bedömningen gör vår ledningsgrupp efter förslag från oss.\n",
      "\n",
      "Om du inte är behörig, och inte kompletterar för att bli det, kan du inte bli antagen och du får då besked om det.\n",
      "\n",
      "Måste jag göra urvalsprov?\n",
      "\n",
      "Du måste inte göra provet, men om du inte gör det, missar du en chans att skaffa dig poäng i urvalet och rangordningen. Om du inte deltar, är du ändå så klart med som sökande men riskerar att hamna långt ner i rankingen. Du kan inte få några ”minuspoäng” i proven, du kan bara förbättra dina chanser.\n",
      "\n",
      "När får vi svar om antagning?\n",
      "\n",
      "Svar om antagning förväntas skickas ut runt midsommar.\n",
      "\n",
      "Vad händer om jag blir reserv?\n",
      "\n",
      "I så fall kan du bli erbjuden en plats senare, egentligen när som helst någon vecka efter antagning, fram till utbildningens start. Det händer till och med att vi tar studenter någon vecka efter att utbildningen har startat, för att fylla platser som eventuellt blir tomma om någon inte dyker upp vid utbildningsstart. Hur chanserna är att komma in som reserv är omöjligt att svara på, det beror på vilka beslut de först antagna gör. Men normalt är det flera reserver som får chansen.\n",
      "\n",
      "Gäller reglerna för behörighet och urval bara hos er?\n",
      "\n",
      "Samtliga de regler som anges ovan om behörighet och urval är generella för alla utbildningsanordnare som har YH-utbildningar. Det är samma regler som gäller. Det som kan skilja åt är dels vilka särskilda behörighetskrav som gäller (utöver allmän behörighet), dels vilka kriterier som används vid urvalet.\n",
      "\n",
      "Får man hjälp att hitta LiA-plats? Har ni samarbete med företag?\n",
      "\n",
      "Det är vårt ansvar att du har en LIA-plats, men det är du som får göra jobbet, ta kontakt, presentera dig, sälja in dig. Vi ger dig stöd i hur man bör gå till väga, coaching under processen, tips på företag, listor med tidigare LIA-handledare etc. Vi har ett nätverk av företag som har sagt sig villiga att ta emot studenter, men saker och ting kan förändras i företagen. Det finns inga ”färdiga” platser som väntar på just dig. Företagen vill också utan undantag att studenterna själva ska kunna ta kontakt.\n",
      "\n",
      "Kan man göra sin LiA var som helst?\n",
      "\n",
      "Ja, så länge du får arbetsuppgifter som stämmer med målen i kursplanen (utbildningens inriktning) och det finns en utsedd handledare som vet vad LIA innebär. Den geografiska platsen har då ingen betydelse\n",
      "\n",
      "Kostar det något?\n",
      "\n",
      "Alla våra YH-utbildningar är gratis. Det finns inga kursavgifter. Däremot måste du själv köpa din kurslitteratur. Och vill du ha en LIA-plats på en annan ort och därmed får ökade kostnader, t ex för att du behöver en bärbar dator, får du lösa det själv.\n",
      "\n",
      "Kan jag jobba samtidigt?\n",
      "\n",
      "Om du studerar på någon av våra YH-program rekommenderar vi att du har fullt fokus på studierna men det går att arbeta vid sidan av under vissa perioder. Våra program är heltidsutbildningar (40 tim/vecka) som kräver din närvaro vid schemalagd undervisning i snitt 16–18 timmar per vecka beroende på utbildning. Övrig tid arbetar du självständigt eller i grupp som du kan planera själv. Under lärande i arbete, LIA, följer du de arbetstider som gäller på företaget vilket är en 40 timmars arbetsvecka.\n",
      "\n",
      "Om du studerar på våra YH-kurser så är de deltidsutbildningar på distans med schemalagda livelektioner 3 timmar per vecka. På så sätt kan du enklare kombinera studier med jobb. Utöver lektionerna sker även handledning och frågestunder.\n",
      "\n",
      "Distans med fysiska träffar, vad betyder det?\n",
      "\n",
      "Om du studerar på någon av våra distansutbildningar kan du studera oavsett var du befinner dig med undantag för 4-6 fysiska träffar på studieorten. Distansutbildningarna är inte oberoende av tid vilket innebär att vi har schemalagd undervisning 16-18 timmar per vecka beroende på utbildning. Övrig tid arbetar du självständigt eller i grupp. Under lärande i arbete, LIA, följer du de arbetstider som gäller på företaget. Ta reda på vad som gäller för just den utbildning du är intresserad av genom att läsa på utbildningssidan under fliken ”fakta”.\n",
      "\n",
      "Om du studerar på våra YH-kurser så är de på distans och har ett flexibelt upplägg vilket gör det möjligt att kombinera studier med arbete samt att studera oavsett var man bor eller befinner sig. Kurserna har schemalagda livelektioner 3 timmar samt handledning och frågestunder. I övrigt planerar du din egen tid.\n",
      "\n",
      "Behöver jag egen dator?\n",
      "\n",
      "För att kunna ta del av utbildningsmaterial, skriva tentamen och delta i undervisningen så behöver du ha tillgång till en egen dator. I nuläget rekommenderar vi en dator som uppfyller minst följande krav:\n",
      "\n",
      "Behöver jag skaffa några programvaror inför utbildningen?\n",
      "\n",
      "Skolan tillhandahåller bl. a. en gratis prenumeration på Microsoft Office 365 där det ingår Office paketet, plattformen Teams, Outlook mejl etc. Beroende på vilken utbildning du ska läsa kan det finnas andra programvaror som skolan tillhandahåller under utbildningen.\n"
     ]
    }
   ],
   "source": [
    "print(\"\\n\\n\".join(faq_list))"
   ]
  },
  {
   "cell_type": "code",
   "execution_count": 13,
   "metadata": {},
   "outputs": [
    {
     "data": {
      "text/plain": [
       "['Vilka utbildningar startar till hösten?',\n",
       " 'När öppnar ansökan?',\n",
       " 'När är sista ansökningsdag?',\n",
       " 'Vad innebär Sen anmälan?',\n",
       " 'När är sista dag för att komplettera ansökan?']"
      ]
     },
     "execution_count": 13,
     "metadata": {},
     "output_type": "execute_result"
    }
   ],
   "source": [
    "questions = [text for text in faq_list if \"?\" in text]\n",
    "questions[:5]"
   ]
  },
  {
   "cell_type": "markdown",
   "metadata": {},
   "source": [
    "# Frågeställningar\n",
    "\n",
    "1. Vad gör befintliga koden från den tidigare data scientisten? \n",
    "    - Den befintliga koden innehåller ett verktyg för att \"skrapa\" information i form av text från NBI Handelsakademins hemsida. Information om de olika utbildningarna Handelsakademin erbjuder sparas som .txt-filer från dess respektive sida.\n",
    "\n",
    "2. Vilka möjliga förbättringar skulle vi kunna göra på hemsidan med hjälp av LLM.\n",
    "    - Anpassade översättningar till andra språk.\n",
    "    - Effektiva sammanfattningar för de olika kurserna.\n",
    "    - \n",
    "\n",
    "3. Kom på ett projekt som skulle passa till ett examensarbete på 4 veckor relaterat till LLM och skolans hemsida. Fundera kring målet av projektet och avgränsning. \n",
    "    - Skapa en chatbot baserad på en existerande LLM som kan svara på frågor och vägleda besökare till hemsidan. Målet med projektet skulle vara att ha en fungerande chat där användare kan skriva in frågor och få relevanta svar från en LLM. Chatbotten skulle vara designad på ett sådant sätt att den endast kan svara på frågor relevanta till Handelsakademin och dess utbildningar, dvs den skulle exempelvis inte svara på en fråga om hur man bakar en kladdkaka. Något avancerat visuellt interface är inte nödvändigt utan det är själva funktionaliteten som är viktig."
   ]
  },
  {
   "cell_type": "markdown",
   "metadata": {},
   "source": []
  }
 ],
 "metadata": {
  "kernelspec": {
   "display_name": "venv",
   "language": "python",
   "name": "python3"
  },
  "language_info": {
   "codemirror_mode": {
    "name": "ipython",
    "version": 3
   },
   "file_extension": ".py",
   "mimetype": "text/x-python",
   "name": "python",
   "nbconvert_exporter": "python",
   "pygments_lexer": "ipython3",
   "version": "3.11.7"
  }
 },
 "nbformat": 4,
 "nbformat_minor": 2
}
