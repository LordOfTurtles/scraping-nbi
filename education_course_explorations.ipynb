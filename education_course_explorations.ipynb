{
 "cells": [
  {
   "cell_type": "markdown",
   "metadata": {},
   "source": [
    "# `Exploration for education and courses`"
   ]
  },
  {
   "cell_type": "code",
   "execution_count": 1,
   "metadata": {},
   "outputs": [],
   "source": [
    "from scraper import EducationScraper, CourseScraper, ExportScrapedText\n",
    "education_scraper = EducationScraper()\n",
    "education_links = education_scraper.links"
   ]
  },
  {
   "cell_type": "code",
   "execution_count": 2,
   "metadata": {},
   "outputs": [
    {
     "data": {
      "text/plain": [
       "{'anlaggningsingenjor': 'https://www.nbi-handelsakademin.se/utbildningar/bygg-anlaggning/anlaggningsingenjor/',\n",
       " 'inkop-supply-management': 'https://www.nbi-handelsakademin.se/utbildningar/inkop-logistik/inkop-supply-management/',\n",
       " 'paralegal': 'https://www.nbi-handelsakademin.se/utbildningar/ekonomi-forsaljning-juridik/paralegal/',\n",
       " 'frontend-developer': 'https://www.nbi-handelsakademin.se/utbildningar/it-tech/frontend-developer/',\n",
       " 'systemutvecklare': 'https://www.nbi-handelsakademin.se/utbildningar/it-tech/systemutvecklare/',\n",
       " 'programmering-med-ai-kompetens': 'https://www.nbi-handelsakademin.se/utbildningar/it-tech/programmering-med-ai-kompetens/',\n",
       " 'redovisningsekonom': 'https://www.nbi-handelsakademin.se/utbildningar/ekonomi-forsaljning-juridik/redovisningsekonom/',\n",
       " 'saljare_b2b_': 'https://www.nbi-handelsakademin.se/utbildningar/ekonomi-forsaljning-juridik/saljare_b2b_/',\n",
       " 'backend-developer': 'https://www.nbi-handelsakademin.se/utbildningar/it-tech/backend-developer/',\n",
       " 'mjukvaruutvecklare-med-ai-inriktning': 'https://www.nbi-handelsakademin.se/utbildningar/it-tech/mjukvaruutvecklare-med-ai-inriktning/',\n",
       " 'byggnadsingenjor': 'https://www.nbi-handelsakademin.se/utbildningar/bygg-anlaggning/byggnadsingenjor/',\n",
       " 'logistics-planner': 'https://www.nbi-handelsakademin.se/utbildningar/inkop-logistik/logistics-planner/'}"
      ]
     },
     "execution_count": 2,
     "metadata": {},
     "output_type": "execute_result"
    }
   ],
   "source": [
    "education_links"
   ]
  },
  {
   "cell_type": "code",
   "execution_count": 3,
   "metadata": {},
   "outputs": [
    {
     "data": {
      "text/plain": [
       "{'hallbarhet-inom-byggsektorn': 'https://www.nbi-handelsakademin.se/utbildningar/bygg-anlaggning/hallbarhet-inom-byggsektorn/',\n",
       " 'cloud-development': 'https://www.nbi-handelsakademin.se/utbildningar/it-tech/cloud-development/',\n",
       " 'forsaljning-smarta-hem': 'https://www.nbi-handelsakademin.se/utbildningar/ekonomi-forsaljning-juridik/forsaljning-smarta-hem/',\n",
       " 'sustainable-procurement': 'https://www.nbi-handelsakademin.se/utbildningar/inkop-logistik/sustainable-procurement/',\n",
       " 'sustainable-supply-chain-transformation': 'https://www.nbi-handelsakademin.se/utbildningar/inkop-logistik/sustainable-supply-chain-transformation/',\n",
       " 'pythonprogrammering-och-ai-utveckling': 'https://www.nbi-handelsakademin.se/utbildningar/it-tech/pythonprogrammering-och-ai-utveckling/'}"
      ]
     },
     "execution_count": 3,
     "metadata": {},
     "output_type": "execute_result"
    }
   ],
   "source": [
    "course_scraper = CourseScraper()\n",
    "course_links = course_scraper.links\n",
    "course_links"
   ]
  },
  {
   "cell_type": "code",
   "execution_count": 4,
   "metadata": {},
   "outputs": [
    {
     "data": {
      "text/plain": [
       "<scraper.ExportScrapedText at 0x190437c3850>"
      ]
     },
     "execution_count": 4,
     "metadata": {},
     "output_type": "execute_result"
    }
   ],
   "source": [
    "text = education_scraper.scrape(\"programmering-med-ai-kompetens\")\n",
    "\n",
    "ExportScrapedText(\"programmering-med-ai-kompetens.txt\",text)"
   ]
  },
  {
   "cell_type": "code",
   "execution_count": 5,
   "metadata": {},
   "outputs": [],
   "source": [
    "import time\n",
    "def export_text(links, scraper):\n",
    "    for course, link in links.items():\n",
    "        text = scraper.scrape(course)\n",
    "        ExportScrapedText(f\"{course}.txt\", text)\n",
    "        time.sleep(2)\n",
    "\n",
    "export_text(education_links, education_scraper)\n",
    "\n"
   ]
  },
  {
   "cell_type": "code",
   "execution_count": 6,
   "metadata": {},
   "outputs": [],
   "source": [
    "\n",
    "export_text(course_links, course_scraper)\n"
   ]
  }
 ],
 "metadata": {
  "kernelspec": {
   "display_name": "venv",
   "language": "python",
   "name": "python3"
  },
  "language_info": {
   "codemirror_mode": {
    "name": "ipython",
    "version": 3
   },
   "file_extension": ".py",
   "mimetype": "text/x-python",
   "name": "python",
   "nbconvert_exporter": "python",
   "pygments_lexer": "ipython3",
   "version": "3.11.7"
  }
 },
 "nbformat": 4,
 "nbformat_minor": 2
}
